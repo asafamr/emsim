{
 "cells": [
  {
   "cell_type": "code",
   "execution_count": 31,
   "metadata": {},
   "outputs": [],
   "source": [
    "import pandas as pd\n",
    "import numpy as np\n",
    "import os\n",
    "import json\n",
    "import spacy\n",
    "from sklearn.neighbors import KDTree\n",
    "from sklearn.preprocessing import normalize\n",
    "from tqdm import tqdm"
   ]
  },
  {
   "cell_type": "code",
   "execution_count": 33,
   "metadata": {},
   "outputs": [],
   "source": [
    "ds_location='../../spike/datasets/tacred-train-labeled/ann'\n",
    "spacy_model='en_core_web_lg'"
   ]
  },
  {
   "cell_type": "code",
   "execution_count": 112,
   "metadata": {},
   "outputs": [],
   "source": [
    "rows=[]\n",
    "for f in os.listdir(ds_location):\n",
    "    with open(os.path.join(ds_location,f)) as fin:\n",
    "        js=json.load(fin)\n",
    "        sent=js['sentences'][0]\n",
    "        rows.append([f]+[sent[x]  for x in 'entities words tags'.split()])\n",
    "df=pd.DataFrame(rows,columns='filename entities words tags'.split())\n",
    "df['text']=df.words.map(lambda x: ' '.join(x))\n",
    "corpus=df.groupby(['text']).first().reset_index()['text'].values"
   ]
  },
  {
   "cell_type": "code",
   "execution_count": 34,
   "metadata": {},
   "outputs": [],
   "source": [
    "\n",
    "nlp=spacy.load(spacy_model)"
   ]
  },
  {
   "cell_type": "code",
   "execution_count": null,
   "metadata": {},
   "outputs": [],
   "source": []
  },
  {
   "cell_type": "code",
   "execution_count": 124,
   "metadata": {},
   "outputs": [
    {
     "name": "stderr",
     "output_type": "stream",
     "text": [
      "100%|██████████| 37311/37311 [00:05<00:00, 7260.40it/s]\n"
     ]
    }
   ],
   "source": [
    "vecs=[]\n",
    "for txt in tqdm(corpus,position=0):\n",
    "    vec=nlp(txt,disable=['ner','parser','tagger']).vector\n",
    "    vecs.append(vec)\n",
    "vecs=normalize(vecs)"
   ]
  },
  {
   "cell_type": "code",
   "execution_count": 125,
   "metadata": {},
   "outputs": [],
   "source": [
    "tree = KDTree(vecs)\n",
    "\n"
   ]
  },
  {
   "cell_type": "code",
   "execution_count": 126,
   "metadata": {},
   "outputs": [],
   "source": [
    "def cos_dist_to_normed_euc(cos_dist_query):\n",
    "    cos_dist_query_rad=np.arccos(1-cos_dist_query)\n",
    "    euc_dist=np.sin(cos_dist_query_rad/2)*2\n",
    "    return euc_dist"
   ]
  },
  {
   "cell_type": "code",
   "execution_count": 145,
   "metadata": {
    "scrolled": false
   },
   "outputs": [
    {
     "data": {
      "text/plain": [
       "['SOCIAL NETWORKING SITE IS REPORTED TO BE FOR SALE Plaxo was founded in 2001 by Todd Masonis along with a fellow Stanford engineering student , Cameron Ring , and Sean Parker , who was also a founder of Napster , the music downloading site .',\n",
       " \"Posted on Monday March 17 , 2008 --------------------------------------- s e anderson is author of `` The Black Holocaust for Beginners '' Social Activism is not a hobby : it 's a Lifestyle lasting a Lifetime http://blackeducatorblogspotcom --------------------------------------- The authors of the study are Richard Lapchick , director of the institute , and Eric Little .\",\n",
       " 'WASHINGTON Mr Dobson , founder and chairman of the group Focus on the Family , is a psychologist .',\n",
       " \"By the way , Rubin 's ploy is rich given that Richard Perle of the American Enterprise Institute brought a former LaRouchie in to brief the Pentagon on Saudi Arabia when he was chair of the Defense Advisory Board .\",\n",
       " 'Plaxo was founded in 2001 by Todd Masonis along with a fellow Stanford engineering student , Cameron Ring , and Sean Parker , who was also a founder of Napster , the music downloading site .',\n",
       " 'Chris is also the President-Elect of the Jacksonville Chapter of the American Marketing Association , which he co-founded in January of this year -LRB- 2009 -RRB- with current Jax AMA President , Lisa Daniel .',\n",
       " \"Another was a showing of `` The Social Network , '' the new film about Facebook , with a panel afterward that included Jesse Eisenberg and Justin Timberlake , who play Facebook founder Mark Zuckerberg and Napster co-founder Sean Parker .\",\n",
       " 'To Kloppenberg the philosophy that has guided Obama most consistently is pragmatism , a uniquely American system of thought developed at the end of the 19th century by William James , John Dewey and Charles Sanders Peirce .',\n",
       " 'In a speech on Friday to the American Bar Association in Washington , Kroes said the Microsoft case was unique .',\n",
       " \"John Malone 's Liberty Media is in the process of gaining control of DirecTV as part of an asset swap with News Corp. .\"]"
      ]
     },
     "execution_count": 145,
     "metadata": {},
     "output_type": "execute_result"
    }
   ],
   "source": [
    "def gen_samples(pos_vecs):\n",
    "    n_ret=50\n",
    "    returned=set()\n",
    "    while True:\n",
    "        dists,queried = tree.query(pos_vecs,n_ret)\n",
    "        queried=np.concatenate(queried)\n",
    "        dists=np.concatenate(dists)\n",
    "        order=np.argsort(dists)\n",
    "        for i in order:\n",
    "            this_idx=queried[i]\n",
    "            this_dist=dists[i]\n",
    "            if this_idx in returned or this_dist <0.01:\n",
    "                continue\n",
    "            returned.add(this_idx) \n",
    "            yield this_idx\n",
    "        n_ret*=2\n",
    "\n",
    "\n",
    "def get_close_sents(positives,negatives,dropout,n_trials,neg_dist,seed,n_per_page,page_num):\n",
    "    np.random.seed(seed)\n",
    "    p_vectors=normalize([nlp(x,disable=['ner','parser','tagger']).vector for x in positives])\n",
    "    \n",
    "    \n",
    "    stop_list=set()\n",
    "    if negatives:\n",
    "        n_vectors=normalize([nlp(x,disable=['ner','parser','tagger']).vector for x in negatives])\n",
    "        neg_dist_euc=cos_dist_to_normed_euc(neg_dist)\n",
    "        stop_list=set(tree.query_radius(n_vectors,neg_dist_euc)[0])\n",
    "    \n",
    "    sampled_means=[]\n",
    "    \n",
    "    for x in range(n_trials):\n",
    "        mask=0\n",
    "        while np.sum(mask) == 0:\n",
    "            mask=np.random.uniform(size=len(positives))<dropout \n",
    "        sampled_means.append(np.mean(p_vectors[mask],0))\n",
    "        \n",
    "    sampled_means=normalize(sampled_means)\n",
    "    \n",
    "    current_page=0\n",
    "    ret=[]\n",
    "    for x in gen_samples(sampled_means):\n",
    "        if x in stop_list:\n",
    "            continue\n",
    "        ret.append(x)\n",
    "        if len(ret) == n_per_page:\n",
    "            if current_page == page_num:\n",
    "                break\n",
    "            else:\n",
    "                ret=[]\n",
    "                current_page+=1\n",
    "                print('aaa')\n",
    "    \n",
    "    return list(corpus[ret])\n",
    "            \n",
    "    \n",
    "get_close_sents(['john is a the founder of microsoft'],['i started the engine'],0.5,3,neg_dist=0.2,seed=123,n_per_page=10,page_num=0)"
   ]
  },
  {
   "cell_type": "code",
   "execution_count": 83,
   "metadata": {},
   "outputs": [
    {
     "data": {
      "text/plain": [
       "array([1, 2, 3, 4])"
      ]
     },
     "execution_count": 83,
     "metadata": {},
     "output_type": "execute_result"
    }
   ],
   "source": [
    "x=np.array([1,2,3,4,5])\n",
    "x[np.random.uniform(size=5)<0.5]"
   ]
  },
  {
   "cell_type": "code",
   "execution_count": 84,
   "metadata": {},
   "outputs": [
    {
     "data": {
      "text/plain": [
       "0"
      ]
     },
     "execution_count": 84,
     "metadata": {},
     "output_type": "execute_result"
    }
   ],
   "source": [
    "np.sum(0)"
   ]
  },
  {
   "cell_type": "code",
   "execution_count": 146,
   "metadata": {},
   "outputs": [],
   "source": [
    "\n",
    "d={'positives':['john is a the founder of microsoft'],'negatives':['i started the engine'],}"
   ]
  },
  {
   "cell_type": "code",
   "execution_count": 148,
   "metadata": {},
   "outputs": [
    {
     "data": {
      "text/plain": [
       "'{\"positives\": [\"john is a the founder of microsoft\"], \"negatives\": [\"i started the engine\"]}'"
      ]
     },
     "execution_count": 148,
     "metadata": {},
     "output_type": "execute_result"
    }
   ],
   "source": [
    "json.dumps(d)"
   ]
  },
  {
   "cell_type": "code",
   "execution_count": null,
   "metadata": {},
   "outputs": [],
   "source": []
  }
 ],
 "metadata": {
  "kernelspec": {
   "display_name": "ai2",
   "language": "python",
   "name": "python3"
  },
  "language_info": {
   "codemirror_mode": {
    "name": "ipython",
    "version": 3
   },
   "file_extension": ".py",
   "mimetype": "text/x-python",
   "name": "python",
   "nbconvert_exporter": "python",
   "pygments_lexer": "ipython3",
   "version": "3.6.7"
  }
 },
 "nbformat": 4,
 "nbformat_minor": 2
}
